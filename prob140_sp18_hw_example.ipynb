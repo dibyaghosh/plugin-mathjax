{
 "cells": [
  {
   "cell_type": "markdown",
   "metadata": {},
   "source": [
    "<table align=\"left\" style=\"border-style: hidden\" class=\"table\"> <tr> <td class=\"col-md-2\"><img style=\"float\" src=\"http://prob140.org/assets/icon256.png\" alt=\"Prob140 Logo\" style=\"width: 120px;\"/></td><td><div align=\"left\"><h3 style=\"margin-top: 0;\">Prob 140: Probability for Data Science</h3><h4 style=\"margin-top: 20px;\">UC Berkeley, Spring 2018</h4><p>Developed by Ani Adhikari, Jim Pitman, Dibya Ghosh, and Jason Zhang</p>CC BY-NC-ND 4.0</div></td></tr></table>"
   ]
  },
  {
   "cell_type": "code",
   "execution_count": 7,
   "metadata": {
    "specialcell_type": "setup"
   },
   "outputs": [],
   "source": [
    "# SETUP\n",
    "\n",
    "import numpy as np\n",
    "from datascience import *\n",
    "from prob140 import *\n",
    "\n",
    "# These lines do some fancy plotting magic\n",
    "import matplotlib\n",
    "%matplotlib inline\n",
    "import matplotlib.pyplot as plt\n",
    "plt.style.use('fivethirtyeight')\n",
    "`1\n",
    "# These lines make warnings look nicer\n",
    "import warnings\n",
    "warnings.simplefilter('ignore', FutureWarning)\n",
    "\n",
    "# To save you a lot of time\n",
    "from scipy import stats"
   ]
  },
  {
   "cell_type": "markdown",
   "metadata": {},
   "source": [
    "# Homework 1\n",
    "\n",
    "This homework assignment consists of both written sections (Part A) and coding sections (Part B): the written portion must be answered on paper, and the coding portions in the companion notebook available [here](yo.ipynb) . \n",
    "\n",
    "For the written sections, please start each problem on a new page. Please do not delete or modify the contents of any of the pre-existing cells in the notebook: they are used to generate your submission.\n"
   ]
  },
  {
   "cell_type": "markdown",
   "metadata": {},
   "source": [
    "### Question 1\n",
    "\n",
    "What is the name of this course?"
   ]
  },
  {
   "cell_type": "markdown",
   "metadata": {},
   "source": [
    "# Submission Instructions\n",
    "\n",
    "If you are not currently enrolled on Gradescope, use entry code `9GEKKD`.\n",
    "\n",
    "### Part A: Written Problems\n",
    "\n",
    "You must upload a scanned PDF of your work onto Gradescope for the assignment \"HW 1 (Part A)\". You may scan your handwritten work on a phone using applications such as CamScanner. A detailed guide provided by Gradescope may be found [here](http://gradescope-static-assets.s3-us-west-2.amazonaws.com/help/submitting_hw_guide.pdf).\n",
    "\n",
    "### Part B: IPython Notebook\n",
    "\n",
    "We will be grading Jupyter assignments using Gradescope and an export tool called `gsExport`. In order to submit your HW,\n",
    "- Save the notebook using File->\"Save and Checkpoint\" (**DO NOT SKIP THIS STEP** )\n",
    "- Run the final cell\n",
    "\n",
    "A link called \"Download this and submit to gradescope!\" should appear. Follow that link to download the PDF and submit to the Gradescope assignment: \"HW 1 (Part B)\".\n",
    "\n",
    "If you receive an error while generating the PDF or submitting to Gradescope, please post on Piazza."
   ]
  },
  {
   "cell_type": "code",
   "execution_count": null,
   "metadata": {
    "collapsed": true
   },
   "outputs": [],
   "source": [
    "import gsExport\n",
    "gsExport.generateSubmission()"
   ]
  }
 ],
 "metadata": {
  "anaconda-cloud": {},
  "kernelspec": {
   "display_name": "Python 3",
   "language": "python",
   "name": "python3"
  },
  "language_info": {
   "codemirror_mode": {
    "name": "ipython",
    "version": 3
   },
   "file_extension": ".py",
   "mimetype": "text/x-python",
   "name": "python",
   "nbconvert_exporter": "python",
   "pygments_lexer": "ipython3",
   "version": "3.5.2"
  },
  "widgets": {
   "state": {},
   "version": "1.1.2"
  }
 },
 "nbformat": 4,
 "nbformat_minor": 1
}
